{
  "nbformat": 4,
  "nbformat_minor": 0,
  "metadata": {
    "colab": {
      "name": "TPOneHotEncoding.ipynb",
      "provenance": [],
      "collapsed_sections": []
    },
    "kernelspec": {
      "name": "python3",
      "display_name": "Python 3"
    }
  },
  "cells": [
    {
      "cell_type": "markdown",
      "metadata": {
        "id": "i5bY6WSxE_5o"
      },
      "source": [
        "One-Hot Encoding\r\n",
        "\r\n",
        "En aprendizaje automático, one-hot es un grupo de bits entre los cuales las combinaciones legales de valores son solo aquellas con un solo bit alto (1) y todas las demás bajas (0). Una implementación similar en la que todos los bits son '1', excepto uno '0', a veces se llama one-cold. En estadística, las variables dummyt representan una técnica similar para representar datos categóricos.\r\n",
        "\r\n",
        "Ejemplo:\r\n",
        "\r\n",
        "![bin-grey-onehot.png](data:image/png;base64,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)\r\n",
        "\r\n",
        "\r\n"
      ]
    },
    {
      "cell_type": "code",
      "metadata": {
        "id": "1Y746ePExj6D"
      },
      "source": [
        "#Ejemplo practico\r\n",
        "\r\n",
        "import csv\r\n",
        "import pandas as pd\r\n",
        "import numpy as np"
      ],
      "execution_count": 1,
      "outputs": []
    },
    {
      "cell_type": "code",
      "metadata": {
        "id": "7wc6gFlbxmxz"
      },
      "source": [
        "import string\n",
        "punctuation = set(string.punctuation)\n",
        "#Esta funcion devuelve un arreglo de cadenas sin signos de puntuacion y en minusculas\n",
        "def tokenize(sentence):\n",
        "    tokens = []\n",
        "    for token in sentence.split():\n",
        "        new_token = []\n",
        "        for character in token:\n",
        "            if character not in punctuation:\n",
        "                new_token.append(character.lower())\n",
        "        if new_token:\n",
        "            tokens.append(\"\".join(new_token))\n",
        "    return tokens"
      ],
      "execution_count": 2,
      "outputs": []
    },
    {
      "cell_type": "code",
      "metadata": {
        "id": "GNVgL4yQzLpq"
      },
      "source": [
        "from sklearn.feature_extraction.text import CountVectorizer\r\n",
        "\r\n",
        "demo_vectorizer = CountVectorizer(\r\n",
        "    tokenizer = tokenize,\r\n",
        "    binary=True\r\n",
        ")"
      ],
      "execution_count": 5,
      "outputs": []
    },
    {
      "cell_type": "code",
      "metadata": {
        "colab": {
          "base_uri": "https://localhost:8080/"
        },
        "id": "3fSvcQP1zf_T",
        "outputId": "9e6f20c6-70bb-4542-dd65-c7784dbaafc6"
      },
      "source": [
        "examples = [\"Rojo\",\n",
        "            \"Azul?\",\n",
        "            \"verde\",\n",
        "            \"Amarillo\",\n",
        "            \"Celeste\",\n",
        "            \"Negro\",\n",
        "            \"Blanco\",\n",
        "            \"azul\"]\n",
        "            \n",
        "demo_vectorizer.fit(examples)\n",
        "vectors = demo_vectorizer.transform(examples).toarray()"
      ],
      "execution_count": 10,
      "outputs": [
        {
          "output_type": "stream",
          "text": [
            "/usr/local/lib/python3.6/dist-packages/sklearn/feature_extraction/text.py:507: UserWarning: The parameter 'token_pattern' will not be used since 'tokenizer' is not None'\n",
            "  warnings.warn(\"The parameter 'token_pattern' will not be used\"\n"
          ],
          "name": "stderr"
        }
      ]
    },
    {
      "cell_type": "code",
      "metadata": {
        "colab": {
          "base_uri": "https://localhost:8080/",
          "height": 297
        },
        "id": "GyLi0Fj2zjXr",
        "outputId": "77756e90-1017-480c-bb67-1d24dbfb405f"
      },
      "source": [
        "headers = sorted(demo_vectorizer.vocabulary_.keys())\r\n",
        "pd.DataFrame(vectors, columns=headers)"
      ],
      "execution_count": 11,
      "outputs": [
        {
          "output_type": "execute_result",
          "data": {
            "text/html": [
              "<div>\n",
              "<style scoped>\n",
              "    .dataframe tbody tr th:only-of-type {\n",
              "        vertical-align: middle;\n",
              "    }\n",
              "\n",
              "    .dataframe tbody tr th {\n",
              "        vertical-align: top;\n",
              "    }\n",
              "\n",
              "    .dataframe thead th {\n",
              "        text-align: right;\n",
              "    }\n",
              "</style>\n",
              "<table border=\"1\" class=\"dataframe\">\n",
              "  <thead>\n",
              "    <tr style=\"text-align: right;\">\n",
              "      <th></th>\n",
              "      <th>amarillo</th>\n",
              "      <th>azul</th>\n",
              "      <th>blanco</th>\n",
              "      <th>celeste</th>\n",
              "      <th>negro</th>\n",
              "      <th>rojo</th>\n",
              "      <th>verde</th>\n",
              "    </tr>\n",
              "  </thead>\n",
              "  <tbody>\n",
              "    <tr>\n",
              "      <th>0</th>\n",
              "      <td>0</td>\n",
              "      <td>0</td>\n",
              "      <td>0</td>\n",
              "      <td>0</td>\n",
              "      <td>0</td>\n",
              "      <td>1</td>\n",
              "      <td>0</td>\n",
              "    </tr>\n",
              "    <tr>\n",
              "      <th>1</th>\n",
              "      <td>0</td>\n",
              "      <td>1</td>\n",
              "      <td>0</td>\n",
              "      <td>0</td>\n",
              "      <td>0</td>\n",
              "      <td>0</td>\n",
              "      <td>0</td>\n",
              "    </tr>\n",
              "    <tr>\n",
              "      <th>2</th>\n",
              "      <td>0</td>\n",
              "      <td>0</td>\n",
              "      <td>0</td>\n",
              "      <td>0</td>\n",
              "      <td>0</td>\n",
              "      <td>0</td>\n",
              "      <td>1</td>\n",
              "    </tr>\n",
              "    <tr>\n",
              "      <th>3</th>\n",
              "      <td>1</td>\n",
              "      <td>0</td>\n",
              "      <td>0</td>\n",
              "      <td>0</td>\n",
              "      <td>0</td>\n",
              "      <td>0</td>\n",
              "      <td>0</td>\n",
              "    </tr>\n",
              "    <tr>\n",
              "      <th>4</th>\n",
              "      <td>0</td>\n",
              "      <td>0</td>\n",
              "      <td>0</td>\n",
              "      <td>1</td>\n",
              "      <td>0</td>\n",
              "      <td>0</td>\n",
              "      <td>0</td>\n",
              "    </tr>\n",
              "    <tr>\n",
              "      <th>5</th>\n",
              "      <td>0</td>\n",
              "      <td>0</td>\n",
              "      <td>0</td>\n",
              "      <td>0</td>\n",
              "      <td>1</td>\n",
              "      <td>0</td>\n",
              "      <td>0</td>\n",
              "    </tr>\n",
              "    <tr>\n",
              "      <th>6</th>\n",
              "      <td>0</td>\n",
              "      <td>0</td>\n",
              "      <td>1</td>\n",
              "      <td>0</td>\n",
              "      <td>0</td>\n",
              "      <td>0</td>\n",
              "      <td>0</td>\n",
              "    </tr>\n",
              "    <tr>\n",
              "      <th>7</th>\n",
              "      <td>0</td>\n",
              "      <td>1</td>\n",
              "      <td>0</td>\n",
              "      <td>0</td>\n",
              "      <td>0</td>\n",
              "      <td>0</td>\n",
              "      <td>0</td>\n",
              "    </tr>\n",
              "  </tbody>\n",
              "</table>\n",
              "</div>"
            ],
            "text/plain": [
              "   amarillo  azul  blanco  celeste  negro  rojo  verde\n",
              "0         0     0       0        0      0     1      0\n",
              "1         0     1       0        0      0     0      0\n",
              "2         0     0       0        0      0     0      1\n",
              "3         1     0       0        0      0     0      0\n",
              "4         0     0       0        1      0     0      0\n",
              "5         0     0       0        0      1     0      0\n",
              "6         0     0       1        0      0     0      0\n",
              "7         0     1       0        0      0     0      0"
            ]
          },
          "metadata": {
            "tags": []
          },
          "execution_count": 11
        }
      ]
    }
  ]
}